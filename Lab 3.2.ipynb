{
 "cells": [
  {
   "cell_type": "code",
   "execution_count": 8,
   "id": "28fa49ff-58f2-47d9-b440-b4a24224c32d",
   "metadata": {},
   "outputs": [],
   "source": [
    "import polars as pl\n",
    "from pathlib import Path\n",
    "\n",
    "DATA = Path(\"data\")\n",
    "survey_path = DATA / \"health_survey.csv\"\n",
    "rc_path     = DATA / \"ReverseCodingItems.csv\"\n"
   ]
  },
  {
   "cell_type": "code",
   "execution_count": 9,
   "id": "fc885b6e-3960-4e95-b380-6db1297001f0",
   "metadata": {},
   "outputs": [
    {
     "data": {
      "text/html": [
       "<div><style>\n",
       ".dataframe > thead > tr,\n",
       ".dataframe > tbody > tr {\n",
       "  text-align: right;\n",
       "  white-space: pre-wrap;\n",
       "}\n",
       "</style>\n",
       "<small>shape: (5, 5)</small><table border=\"1\" class=\"dataframe\"><thead><tr><th>Question</th><th>Construct</th><th>Question # on Qualtrics Survey</th><th>Needs Reverse Coding?</th><th>Column Name</th></tr><tr><td>str</td><td>i64</td><td>i64</td><td>str</td><td>str</td></tr></thead><tbody><tr><td>&quot;In the future, I plan to parti…</td><td>1</td><td>1</td><td>&quot;No&quot;</td><td>&quot;F1&quot;</td></tr><tr><td>&quot;Individuals are responsible fo…</td><td>5</td><td>2</td><td>&quot;Yes&quot;</td><td>&quot;F5&quot;</td></tr><tr><td>&quot;When tryng to understand the p…</td><td>2</td><td>3</td><td>&quot;No&quot;</td><td>&quot;F2&quot;</td></tr><tr><td>&quot;I plan to become involved in m…</td><td>1</td><td>4</td><td>&quot;No&quot;</td><td>&quot;F1.1&quot;</td></tr><tr><td>&quot;I can communicate well with ot…</td><td>2</td><td>5</td><td>&quot;No&quot;</td><td>&quot;F2.1&quot;</td></tr></tbody></table></div>"
      ],
      "text/plain": [
       "shape: (5, 5)\n",
       "┌─────────────────────────────┬───────────┬──────────────────┬───────────────────────┬─────────────┐\n",
       "│ Question                    ┆ Construct ┆ Question # on    ┆ Needs Reverse Coding? ┆ Column Name │\n",
       "│ ---                         ┆ ---       ┆ Qualtrics Survey ┆ ---                   ┆ ---         │\n",
       "│ str                         ┆ i64       ┆ ---              ┆ str                   ┆ str         │\n",
       "│                             ┆           ┆ i64              ┆                       ┆             │\n",
       "╞═════════════════════════════╪═══════════╪══════════════════╪═══════════════════════╪═════════════╡\n",
       "│ In the future, I plan to    ┆ 1         ┆ 1                ┆ No                    ┆ F1          │\n",
       "│ parti…                      ┆           ┆                  ┆                       ┆             │\n",
       "│ Individuals are responsible ┆ 5         ┆ 2                ┆ Yes                   ┆ F5          │\n",
       "│ fo…                         ┆           ┆                  ┆                       ┆             │\n",
       "│ When tryng to understand    ┆ 2         ┆ 3                ┆ No                    ┆ F2          │\n",
       "│ the p…                      ┆           ┆                  ┆                       ┆             │\n",
       "│ I plan to become involved   ┆ 1         ┆ 4                ┆ No                    ┆ F1.1        │\n",
       "│ in m…                       ┆           ┆                  ┆                       ┆             │\n",
       "│ I can communicate well with ┆ 2         ┆ 5                ┆ No                    ┆ F2.1        │\n",
       "│ ot…                         ┆           ┆                  ┆                       ┆             │\n",
       "└─────────────────────────────┴───────────┴──────────────────┴───────────────────────┴─────────────┘"
      ]
     },
     "execution_count": 9,
     "metadata": {},
     "output_type": "execute_result"
    }
   ],
   "source": [
    "health_survey = pl.read_csv(survey_path)\n",
    "reverse_coding = pl.read_csv(rc_path)\n",
    "\n",
    "health_survey.head()\n",
    "reverse_coding.head()"
   ]
  },
  {
   "cell_type": "code",
   "execution_count": 10,
   "id": "d5cc98cc-3f3a-4b24-ab5d-b4f94966370c",
   "metadata": {},
   "outputs": [
    {
     "data": {
      "text/plain": [
       "[('F1', 'F1_regular'),\n",
       " ('F5', 'F5_reverse'),\n",
       " ('F2', 'F2_regular'),\n",
       " ('F1.1', 'F1.1_regular'),\n",
       " ('F2.1', 'F2.1_regular'),\n",
       " ('F6', 'F6_reverse'),\n",
       " ('F4', 'F4_regular'),\n",
       " ('F3', 'F3_regular'),\n",
       " ('F5.1', 'F5.1_regular'),\n",
       " ('F1.2', 'F1.2_regular')]"
      ]
     },
     "execution_count": 10,
     "metadata": {},
     "output_type": "execute_result"
    }
   ],
   "source": [
    "col_names = reverse_coding[\"Column Name\"].to_list()\n",
    "needs_rev = reverse_coding[\"Needs Reverse Coding?\"].to_list()\n",
    "\n",
    "col_dict = {\n",
    "    col: f\"{col}_reverse\" if needs.strip().lower() == \"yes\" else f\"{col}_regular\"\n",
    "    for col, needs in zip(col_names, needs_rev)\n",
    "}\n",
    "\n",
    "list(col_dict.items())[:10]\n"
   ]
  },
  {
   "cell_type": "code",
   "execution_count": 11,
   "id": "47df27aa-7000-4ad4-aa7b-90b566b26c6b",
   "metadata": {},
   "outputs": [],
   "source": [
    "health_survey = health_survey.rename(col_dict)"
   ]
  },
  {
   "cell_type": "code",
   "execution_count": 19,
   "id": "41b84f8c-86a6-4f80-90dd-855b2e8e4d8d",
   "metadata": {},
   "outputs": [
    {
     "data": {
      "text/html": [
       "<div><style>\n",
       ".dataframe > thead > tr,\n",
       ".dataframe > tbody > tr {\n",
       "  text-align: right;\n",
       "  white-space: pre-wrap;\n",
       "}\n",
       "</style>\n",
       "<small>shape: (5, 44)</small><table border=\"1\" class=\"dataframe\"><thead><tr><th>F1_regular</th><th>F2_regular</th><th>F1.1_regular</th><th>F2.1_regular</th><th>F4_regular</th><th>F3_regular</th><th>F5.1_regular</th><th>F1.2_regular</th><th>F2.2_regular</th><th>F6.1_regular</th><th>F2.3_regular</th><th>F2.4_regular</th><th>F2.5_regular</th><th>F6.2_regular</th><th>F1.3_regular</th><th>F2.6_regular</th><th>F5.3_regular</th><th>F4.2_regular</th><th>F2.7_regular</th><th>F3.1_regular</th><th>F2.8_regular</th><th>F5.4_regular</th><th>F3.2_regular</th><th>F1.4_regular</th><th>F3.3_regular</th><th>F1.5_regular</th><th>F1.6_regular</th><th>F2.9_regular</th><th>F3.4_regular</th><th>F2.10_regular</th><th>F1.7_regular</th><th>F4.4_regular</th><th>F5.7_regular</th><th>F3.5_regular</th><th>F2.11_regular</th><th>F5_reverse</th><th>F6_reverse</th><th>F4.1_reverse</th><th>F5.2_reverse</th><th>F5.5_reverse</th><th>F6.3_reverse</th><th>F5.6_reverse</th><th>F4.3_reverse</th><th>F6.4_reverse</th></tr><tr><td>i32</td><td>i32</td><td>i32</td><td>i32</td><td>i32</td><td>i32</td><td>i32</td><td>i32</td><td>i32</td><td>i32</td><td>i32</td><td>i32</td><td>i32</td><td>i32</td><td>i32</td><td>i32</td><td>i32</td><td>i32</td><td>i32</td><td>i32</td><td>i32</td><td>i32</td><td>i32</td><td>i32</td><td>i32</td><td>i32</td><td>i32</td><td>i32</td><td>i32</td><td>i32</td><td>i32</td><td>i32</td><td>i32</td><td>i32</td><td>i32</td><td>i32</td><td>i32</td><td>i32</td><td>i32</td><td>i32</td><td>i32</td><td>i32</td><td>i32</td><td>i32</td></tr></thead><tbody><tr><td>4</td><td>4</td><td>4</td><td>4</td><td>4</td><td>4</td><td>4</td><td>4</td><td>4</td><td>4</td><td>4</td><td>4</td><td>4</td><td>4</td><td>4</td><td>4</td><td>4</td><td>4</td><td>4</td><td>2</td><td>4</td><td>4</td><td>4</td><td>3</td><td>4</td><td>4</td><td>4</td><td>4</td><td>2</td><td>4</td><td>4</td><td>4</td><td>4</td><td>4</td><td>4</td><td>4</td><td>4</td><td>2</td><td>2</td><td>4</td><td>4</td><td>2</td><td>3</td><td>2</td></tr><tr><td>4</td><td>4</td><td>4</td><td>4</td><td>4</td><td>3</td><td>3</td><td>4</td><td>3</td><td>4</td><td>4</td><td>4</td><td>4</td><td>4</td><td>4</td><td>4</td><td>4</td><td>4</td><td>4</td><td>3</td><td>4</td><td>3</td><td>3</td><td>4</td><td>3</td><td>3</td><td>4</td><td>4</td><td>4</td><td>4</td><td>4</td><td>3</td><td>4</td><td>3</td><td>4</td><td>4</td><td>4</td><td>3</td><td>2</td><td>3</td><td>4</td><td>4</td><td>3</td><td>4</td></tr><tr><td>5</td><td>4</td><td>5</td><td>5</td><td>4</td><td>4</td><td>4</td><td>5</td><td>4</td><td>3</td><td>4</td><td>4</td><td>5</td><td>4</td><td>5</td><td>4</td><td>4</td><td>4</td><td>null</td><td>2</td><td>4</td><td>4</td><td>4</td><td>2</td><td>4</td><td>5</td><td>5</td><td>4</td><td>4</td><td>4</td><td>4</td><td>4</td><td>5</td><td>1</td><td>4</td><td>3</td><td>4</td><td>3</td><td>4</td><td>4</td><td>4</td><td>4</td><td>3</td><td>2</td></tr><tr><td>4</td><td>5</td><td>4</td><td>5</td><td>3</td><td>2</td><td>4</td><td>5</td><td>5</td><td>4</td><td>4</td><td>5</td><td>5</td><td>4</td><td>4</td><td>5</td><td>4</td><td>4</td><td>4</td><td>2</td><td>4</td><td>4</td><td>2</td><td>3</td><td>2</td><td>4</td><td>5</td><td>4</td><td>2</td><td>4</td><td>3</td><td>3</td><td>4</td><td>2</td><td>4</td><td>2</td><td>3</td><td>3</td><td>4</td><td>4</td><td>2</td><td>4</td><td>2</td><td>3</td></tr><tr><td>5</td><td>3</td><td>5</td><td>4</td><td>5</td><td>4</td><td>3</td><td>5</td><td>4</td><td>4</td><td>2</td><td>4</td><td>5</td><td>5</td><td>5</td><td>5</td><td>5</td><td>4</td><td>4</td><td>4</td><td>4</td><td>3</td><td>4</td><td>4</td><td>4</td><td>4</td><td>5</td><td>4</td><td>4</td><td>4</td><td>4</td><td>4</td><td>5</td><td>2</td><td>4</td><td>5</td><td>5</td><td>3</td><td>5</td><td>5</td><td>3</td><td>5</td><td>3</td><td>2</td></tr></tbody></table></div>"
      ],
      "text/plain": [
       "shape: (5, 44)\n",
       "┌───────────┬───────────┬───────────┬───────────┬───┬───────────┬───────────┬───────────┬──────────┐\n",
       "│ F1_regula ┆ F2_regula ┆ F1.1_regu ┆ F2.1_regu ┆ … ┆ F6.3_reve ┆ F5.6_reve ┆ F4.3_reve ┆ F6.4_rev │\n",
       "│ r         ┆ r         ┆ lar       ┆ lar       ┆   ┆ rse       ┆ rse       ┆ rse       ┆ erse     │\n",
       "│ ---       ┆ ---       ┆ ---       ┆ ---       ┆   ┆ ---       ┆ ---       ┆ ---       ┆ ---      │\n",
       "│ i32       ┆ i32       ┆ i32       ┆ i32       ┆   ┆ i32       ┆ i32       ┆ i32       ┆ i32      │\n",
       "╞═══════════╪═══════════╪═══════════╪═══════════╪═══╪═══════════╪═══════════╪═══════════╪══════════╡\n",
       "│ 4         ┆ 4         ┆ 4         ┆ 4         ┆ … ┆ 4         ┆ 2         ┆ 3         ┆ 2        │\n",
       "│ 4         ┆ 4         ┆ 4         ┆ 4         ┆ … ┆ 4         ┆ 4         ┆ 3         ┆ 4        │\n",
       "│ 5         ┆ 4         ┆ 5         ┆ 5         ┆ … ┆ 4         ┆ 4         ┆ 3         ┆ 2        │\n",
       "│ 4         ┆ 5         ┆ 4         ┆ 5         ┆ … ┆ 2         ┆ 4         ┆ 2         ┆ 3        │\n",
       "│ 5         ┆ 3         ┆ 5         ┆ 4         ┆ … ┆ 3         ┆ 5         ┆ 3         ┆ 2        │\n",
       "└───────────┴───────────┴───────────┴───────────┴───┴───────────┴───────────┴───────────┴──────────┘"
      ]
     },
     "execution_count": 19,
     "metadata": {},
     "output_type": "execute_result"
    }
   ],
   "source": [
    "likert_map = {\n",
    "    \"Strongly Disagree\": 1,\n",
    "    \"Somewhat Disagree\": 2,\n",
    "    \"Neither Agree nor Disagree\": 3,\n",
    "    \"Somewhat Agree\": 4,\n",
    "    \"Strongly Agree\": 5\n",
    "}\n",
    "\n",
    "reverse_cols = reverse_coding.filter(\n",
    "    pl.col(\"Needs Reverse Coding?\").str.strip_chars().str.to_lowercase() == \"yes\"\n",
    ")[\"Column Name\"].to_list()\n",
    "\n",
    "regular_cols = reverse_coding.filter(\n",
    "    pl.col(\"Needs Reverse Coding?\").str.strip_chars().str.to_lowercase() == \"no\"\n",
    ")[\"Column Name\"].to_list()\n",
    "\n",
    "health_survey_recoded = health_survey.select(\n",
    "    [\n",
    "        *(pl.col(col).replace(likert_map).cast(pl.Int32).alias(f\"{col}_regular\") for col in regular_cols),\n",
    "        \n",
    "        *( (6 - pl.col(col).replace(likert_map).cast(pl.Int32)).alias(f\"{col}_reverse\") for col in reverse_cols),\n",
    "    ]\n",
    ")\n",
    "\n",
    "health_survey_recoded.head()"
   ]
  },
  {
   "cell_type": "code",
   "execution_count": 18,
   "id": "9ae903ff-b5a1-4b71-8a6d-1c48c04d04df",
   "metadata": {},
   "outputs": [
    {
     "name": "stdout",
     "output_type": "stream",
     "text": [
      "shape: (5, 6)\n",
      "┌─────────┬─────────┬─────────┬──────────┬──────────┬─────────┐\n",
      "│ F5_mean ┆ F1_mean ┆ F6_mean ┆ F3_mean  ┆ F2_mean  ┆ F4_mean │\n",
      "│ ---     ┆ ---     ┆ ---     ┆ ---      ┆ ---      ┆ ---     │\n",
      "│ f64     ┆ f64     ┆ f64     ┆ f64      ┆ f64      ┆ f64     │\n",
      "╞═════════╪═════════╪═════════╪══════════╪══════════╪═════════╡\n",
      "│ 3.5     ┆ 3.875   ┆ 3.6     ┆ 3.333333 ┆ 4.0      ┆ 3.4     │\n",
      "│ 3.375   ┆ 3.875   ┆ 4.0     ┆ 3.166667 ┆ 3.916667 ┆ 3.4     │\n",
      "│ 4.0     ┆ 4.5     ┆ 3.4     ┆ 3.166667 ┆ null     ┆ 3.6     │\n",
      "│ 3.75    ┆ 4.0     ┆ 3.2     ┆ 2.0      ┆ 4.5      ┆ 3.0     │\n",
      "│ 4.5     ┆ 4.625   ┆ 3.8     ┆ 3.666667 ┆ 3.916667 ┆ 3.8     │\n",
      "└─────────┴─────────┴─────────┴──────────┴──────────┴─────────┘\n"
     ]
    }
   ],
   "source": [
    "df = health_survey_recoded\n",
    "\n",
    "prefixes = {re.split(r'[_]', col)[0] for col in df.columns}\n",
    "\n",
    "aggregated = df.clone()\n",
    "\n",
    "for q in prefixes:\n",
    "    cols = [c for c in aggregated.columns if c.startswith(q)]\n",
    "    \n",
    "    if not cols:\n",
    "        continue  # skip if nothing found\n",
    "    \n",
    "    mean_expr = (\n",
    "        pl.reduce(lambda acc, x: acc + x, pl.col(cols)) / len(cols)\n",
    "    ).alias(f\"{q}_mean\")\n",
    "    \n",
    "    aggregated = aggregated.with_columns(mean_expr)\n",
    "    aggregated = aggregated.drop(cols)\n",
    "\n",
    "print(aggregated.head())"
   ]
  },
  {
   "cell_type": "code",
   "execution_count": 17,
   "id": "d0fbf383-bad6-48b7-91bd-ff703e6b8010",
   "metadata": {},
   "outputs": [
    {
     "name": "stdout",
     "output_type": "stream",
     "text": [
      "shape: (5, 44)\n",
      "┌───────────┬───────────┬───────────┬───────────┬───┬───────────┬───────────┬───────────┬──────────┐\n",
      "│ F2.4_mean ┆ F4.4_mean ┆ F2.10_mea ┆ F4.2_mean ┆ … ┆ F2.5_mean ┆ F1.6_mean ┆ F4.1_mean ┆ F2.11_me │\n",
      "│ ---       ┆ ---       ┆ n         ┆ ---       ┆   ┆ ---       ┆ ---       ┆ ---       ┆ an       │\n",
      "│ f64       ┆ f64       ┆ ---       ┆ f64       ┆   ┆ f64       ┆ f64       ┆ f64       ┆ ---      │\n",
      "│           ┆           ┆ f64       ┆           ┆   ┆           ┆           ┆           ┆ f64      │\n",
      "╞═══════════╪═══════════╪═══════════╪═══════════╪═══╪═══════════╪═══════════╪═══════════╪══════════╡\n",
      "│ 4.0       ┆ 4.0       ┆ 4.0       ┆ 4.0       ┆ … ┆ 4.0       ┆ 4.0       ┆ 2.0       ┆ 4.0      │\n",
      "│ 4.0       ┆ 3.0       ┆ 4.0       ┆ 4.0       ┆ … ┆ 4.0       ┆ 4.0       ┆ 3.0       ┆ 4.0      │\n",
      "│ 4.0       ┆ 4.0       ┆ 4.0       ┆ 4.0       ┆ … ┆ 5.0       ┆ 5.0       ┆ 3.0       ┆ 4.0      │\n",
      "│ 5.0       ┆ 3.0       ┆ 4.0       ┆ 4.0       ┆ … ┆ 5.0       ┆ 5.0       ┆ 3.0       ┆ 4.0      │\n",
      "│ 4.0       ┆ 4.0       ┆ 4.0       ┆ 4.0       ┆ … ┆ 5.0       ┆ 5.0       ┆ 3.0       ┆ 4.0      │\n",
      "└───────────┴───────────┴───────────┴───────────┴───┴───────────┴───────────┴───────────┴──────────┘\n"
     ]
    }
   ],
   "source": [
    "df = health_survey_recoded\n",
    "\n",
    "prefixes = {re.split(r'[_]', col)[0] for col in df.columns}\n",
    "\n",
    "agg_exprs = [\n",
    "    (\n",
    "        pl.reduce(lambda acc, x: acc + x, pl.col([c for c in df.columns if c.startswith(q)]))\n",
    "        / len([c for c in df.columns if c.startswith(q)])\n",
    "    ).alias(f\"{q}_mean\")\n",
    "    for q in prefixes\n",
    "    if any(c.startswith(q) for c in df.columns)  # only if columns exist\n",
    "]\n",
    "\n",
    "aggregated = (\n",
    "    df.with_columns(agg_exprs)\n",
    "      .drop([c for c in df.columns if any(c.startswith(p) for p in prefixes)])\n",
    ")\n",
    "\n",
    "print(aggregated.head())\n"
   ]
  },
  {
   "cell_type": "code",
   "execution_count": null,
   "id": "887dfc23-7259-4626-a031-c538dcea200d",
   "metadata": {},
   "outputs": [],
   "source": []
  }
 ],
 "metadata": {
  "kernelspec": {
   "display_name": "Python 3 (ipykernel)",
   "language": "python",
   "name": "python3"
  },
  "language_info": {
   "codemirror_mode": {
    "name": "ipython",
    "version": 3
   },
   "file_extension": ".py",
   "mimetype": "text/x-python",
   "name": "python",
   "nbconvert_exporter": "python",
   "pygments_lexer": "ipython3",
   "version": "3.11.13"
  }
 },
 "nbformat": 4,
 "nbformat_minor": 5
}
